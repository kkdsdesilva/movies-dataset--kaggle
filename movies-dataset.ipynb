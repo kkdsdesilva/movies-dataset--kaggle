{
 "cells": [
  {
   "cell_type": "code",
   "execution_count": 1,
   "id": "b967678a",
   "metadata": {
    "_cell_guid": "b1076dfc-b9ad-4769-8c92-a6c4dae69d19",
    "_uuid": "8f2839f25d086af736a60e9eeb907d3b93b6e0e5",
    "execution": {
     "iopub.execute_input": "2023-02-02T19:01:22.128811Z",
     "iopub.status.busy": "2023-02-02T19:01:22.128349Z",
     "iopub.status.idle": "2023-02-02T19:01:22.171429Z",
     "shell.execute_reply": "2023-02-02T19:01:22.170276Z"
    },
    "papermill": {
     "duration": 0.055154,
     "end_time": "2023-02-02T19:01:22.176030",
     "exception": false,
     "start_time": "2023-02-02T19:01:22.120876",
     "status": "completed"
    },
    "tags": []
   },
   "outputs": [
    {
     "name": "stdout",
     "output_type": "stream",
     "text": [
      "/kaggle/input/the-movies-dataset/ratings.csv\n",
      "/kaggle/input/the-movies-dataset/links_small.csv\n",
      "/kaggle/input/the-movies-dataset/credits.csv\n",
      "/kaggle/input/the-movies-dataset/keywords.csv\n",
      "/kaggle/input/the-movies-dataset/movies_metadata.csv\n",
      "/kaggle/input/the-movies-dataset/ratings_small.csv\n",
      "/kaggle/input/the-movies-dataset/links.csv\n"
     ]
    }
   ],
   "source": [
    "# This Python 3 environment comes with many helpful analytics libraries installed\n",
    "# It is defined by the kaggle/python Docker image: https://github.com/kaggle/docker-python\n",
    "# For example, here's several helpful packages to load\n",
    "\n",
    "import numpy as np # linear algebra\n",
    "import pandas as pd # data processing, CSV file I/O (e.g. pd.read_csv)\n",
    "\n",
    "# Input data files are available in the read-only \"../input/\" directory\n",
    "# For example, running this (by clicking run or pressing Shift+Enter) will list all files under the input directory\n",
    "\n",
    "import os\n",
    "for dirname, _, filenames in os.walk('/kaggle/input'):\n",
    "    for filename in filenames:\n",
    "        print(os.path.join(dirname, filename))\n",
    "\n",
    "# You can write up to 20GB to the current directory (/kaggle/working/) that gets preserved as output when you create a version using \"Save & Run All\" \n",
    "# You can also write temporary files to /kaggle/temp/, but they won't be saved outside of the current session"
   ]
  },
  {
   "cell_type": "code",
   "execution_count": 2,
   "id": "8a61a2d6",
   "metadata": {
    "execution": {
     "iopub.execute_input": "2023-02-02T19:01:22.188255Z",
     "iopub.status.busy": "2023-02-02T19:01:22.187914Z",
     "iopub.status.idle": "2023-02-02T19:01:46.137997Z",
     "shell.execute_reply": "2023-02-02T19:01:46.136482Z"
    },
    "papermill": {
     "duration": 23.958803,
     "end_time": "2023-02-02T19:01:46.141024",
     "exception": false,
     "start_time": "2023-02-02T19:01:22.182221",
     "status": "completed"
    },
    "tags": []
   },
   "outputs": [
    {
     "name": "stderr",
     "output_type": "stream",
     "text": [
      "/opt/conda/lib/python3.7/site-packages/IPython/core/interactiveshell.py:3552: DtypeWarning: Columns (10) have mixed types.Specify dtype option on import or set low_memory=False.\n",
      "  exec(code_obj, self.user_global_ns, self.user_ns)\n"
     ]
    }
   ],
   "source": [
    "#Load data\n",
    "movie_ratings = pd.read_csv('/kaggle/input/the-movies-dataset/ratings.csv')\n",
    "movie_metadata = pd.read_csv('/kaggle/input/the-movies-dataset/movies_metadata.csv')"
   ]
  },
  {
   "cell_type": "code",
   "execution_count": 3,
   "id": "a5a06c75",
   "metadata": {
    "execution": {
     "iopub.execute_input": "2023-02-02T19:01:46.157651Z",
     "iopub.status.busy": "2023-02-02T19:01:46.156778Z",
     "iopub.status.idle": "2023-02-02T19:01:46.175200Z",
     "shell.execute_reply": "2023-02-02T19:01:46.174082Z"
    },
    "papermill": {
     "duration": 0.029723,
     "end_time": "2023-02-02T19:01:46.177404",
     "exception": false,
     "start_time": "2023-02-02T19:01:46.147681",
     "status": "completed"
    },
    "tags": []
   },
   "outputs": [
    {
     "data": {
      "text/html": [
       "<div>\n",
       "<style scoped>\n",
       "    .dataframe tbody tr th:only-of-type {\n",
       "        vertical-align: middle;\n",
       "    }\n",
       "\n",
       "    .dataframe tbody tr th {\n",
       "        vertical-align: top;\n",
       "    }\n",
       "\n",
       "    .dataframe thead th {\n",
       "        text-align: right;\n",
       "    }\n",
       "</style>\n",
       "<table border=\"1\" class=\"dataframe\">\n",
       "  <thead>\n",
       "    <tr style=\"text-align: right;\">\n",
       "      <th></th>\n",
       "      <th>userId</th>\n",
       "      <th>movieId</th>\n",
       "      <th>rating</th>\n",
       "      <th>timestamp</th>\n",
       "    </tr>\n",
       "  </thead>\n",
       "  <tbody>\n",
       "    <tr>\n",
       "      <th>0</th>\n",
       "      <td>1</td>\n",
       "      <td>110</td>\n",
       "      <td>1.0</td>\n",
       "      <td>1425941529</td>\n",
       "    </tr>\n",
       "    <tr>\n",
       "      <th>1</th>\n",
       "      <td>1</td>\n",
       "      <td>147</td>\n",
       "      <td>4.5</td>\n",
       "      <td>1425942435</td>\n",
       "    </tr>\n",
       "    <tr>\n",
       "      <th>2</th>\n",
       "      <td>1</td>\n",
       "      <td>858</td>\n",
       "      <td>5.0</td>\n",
       "      <td>1425941523</td>\n",
       "    </tr>\n",
       "    <tr>\n",
       "      <th>3</th>\n",
       "      <td>1</td>\n",
       "      <td>1221</td>\n",
       "      <td>5.0</td>\n",
       "      <td>1425941546</td>\n",
       "    </tr>\n",
       "    <tr>\n",
       "      <th>4</th>\n",
       "      <td>1</td>\n",
       "      <td>1246</td>\n",
       "      <td>5.0</td>\n",
       "      <td>1425941556</td>\n",
       "    </tr>\n",
       "  </tbody>\n",
       "</table>\n",
       "</div>"
      ],
      "text/plain": [
       "   userId  movieId  rating   timestamp\n",
       "0       1      110     1.0  1425941529\n",
       "1       1      147     4.5  1425942435\n",
       "2       1      858     5.0  1425941523\n",
       "3       1     1221     5.0  1425941546\n",
       "4       1     1246     5.0  1425941556"
      ]
     },
     "execution_count": 3,
     "metadata": {},
     "output_type": "execute_result"
    }
   ],
   "source": [
    "movie_ratings.head()"
   ]
  },
  {
   "cell_type": "code",
   "execution_count": 4,
   "id": "6612e8ee",
   "metadata": {
    "execution": {
     "iopub.execute_input": "2023-02-02T19:01:46.188761Z",
     "iopub.status.busy": "2023-02-02T19:01:46.188452Z",
     "iopub.status.idle": "2023-02-02T19:01:46.961168Z",
     "shell.execute_reply": "2023-02-02T19:01:46.960300Z"
    },
    "papermill": {
     "duration": 0.780292,
     "end_time": "2023-02-02T19:01:46.963184",
     "exception": false,
     "start_time": "2023-02-02T19:01:46.182892",
     "status": "completed"
    },
    "tags": []
   },
   "outputs": [
    {
     "data": {
      "text/html": [
       "<div>\n",
       "<style scoped>\n",
       "    .dataframe tbody tr th:only-of-type {\n",
       "        vertical-align: middle;\n",
       "    }\n",
       "\n",
       "    .dataframe tbody tr th {\n",
       "        vertical-align: top;\n",
       "    }\n",
       "\n",
       "    .dataframe thead th {\n",
       "        text-align: right;\n",
       "    }\n",
       "</style>\n",
       "<table border=\"1\" class=\"dataframe\">\n",
       "  <thead>\n",
       "    <tr style=\"text-align: right;\">\n",
       "      <th></th>\n",
       "      <th>rating</th>\n",
       "    </tr>\n",
       "    <tr>\n",
       "      <th>movieId</th>\n",
       "      <th></th>\n",
       "    </tr>\n",
       "  </thead>\n",
       "  <tbody>\n",
       "    <tr>\n",
       "      <th>1</th>\n",
       "      <td>3.888157</td>\n",
       "    </tr>\n",
       "    <tr>\n",
       "      <th>2</th>\n",
       "      <td>3.236953</td>\n",
       "    </tr>\n",
       "    <tr>\n",
       "      <th>3</th>\n",
       "      <td>3.175550</td>\n",
       "    </tr>\n",
       "    <tr>\n",
       "      <th>4</th>\n",
       "      <td>2.875713</td>\n",
       "    </tr>\n",
       "    <tr>\n",
       "      <th>5</th>\n",
       "      <td>3.079565</td>\n",
       "    </tr>\n",
       "  </tbody>\n",
       "</table>\n",
       "</div>"
      ],
      "text/plain": [
       "           rating\n",
       "movieId          \n",
       "1        3.888157\n",
       "2        3.236953\n",
       "3        3.175550\n",
       "4        2.875713\n",
       "5        3.079565"
      ]
     },
     "execution_count": 4,
     "metadata": {},
     "output_type": "execute_result"
    }
   ],
   "source": [
    "#Find the average rating for each movie\n",
    "movie_ratings = movie_ratings.groupby('movieId').agg({'rating':'mean'})\n",
    "movie_ratings.head()"
   ]
  },
  {
   "cell_type": "code",
   "execution_count": 5,
   "id": "09c9450d",
   "metadata": {
    "execution": {
     "iopub.execute_input": "2023-02-02T19:01:46.975606Z",
     "iopub.status.busy": "2023-02-02T19:01:46.974956Z",
     "iopub.status.idle": "2023-02-02T19:01:47.001700Z",
     "shell.execute_reply": "2023-02-02T19:01:47.000919Z"
    },
    "papermill": {
     "duration": 0.035069,
     "end_time": "2023-02-02T19:01:47.003654",
     "exception": false,
     "start_time": "2023-02-02T19:01:46.968585",
     "status": "completed"
    },
    "tags": []
   },
   "outputs": [
    {
     "data": {
      "text/html": [
       "<div>\n",
       "<style scoped>\n",
       "    .dataframe tbody tr th:only-of-type {\n",
       "        vertical-align: middle;\n",
       "    }\n",
       "\n",
       "    .dataframe tbody tr th {\n",
       "        vertical-align: top;\n",
       "    }\n",
       "\n",
       "    .dataframe thead th {\n",
       "        text-align: right;\n",
       "    }\n",
       "</style>\n",
       "<table border=\"1\" class=\"dataframe\">\n",
       "  <thead>\n",
       "    <tr style=\"text-align: right;\">\n",
       "      <th></th>\n",
       "      <th>adult</th>\n",
       "      <th>belongs_to_collection</th>\n",
       "      <th>budget</th>\n",
       "      <th>genres</th>\n",
       "      <th>homepage</th>\n",
       "      <th>id</th>\n",
       "      <th>imdb_id</th>\n",
       "      <th>original_language</th>\n",
       "      <th>original_title</th>\n",
       "      <th>overview</th>\n",
       "      <th>...</th>\n",
       "      <th>release_date</th>\n",
       "      <th>revenue</th>\n",
       "      <th>runtime</th>\n",
       "      <th>spoken_languages</th>\n",
       "      <th>status</th>\n",
       "      <th>tagline</th>\n",
       "      <th>title</th>\n",
       "      <th>video</th>\n",
       "      <th>vote_average</th>\n",
       "      <th>vote_count</th>\n",
       "    </tr>\n",
       "  </thead>\n",
       "  <tbody>\n",
       "    <tr>\n",
       "      <th>0</th>\n",
       "      <td>False</td>\n",
       "      <td>{'id': 10194, 'name': 'Toy Story Collection', ...</td>\n",
       "      <td>30000000</td>\n",
       "      <td>[{'id': 16, 'name': 'Animation'}, {'id': 35, '...</td>\n",
       "      <td>http://toystory.disney.com/toy-story</td>\n",
       "      <td>862</td>\n",
       "      <td>tt0114709</td>\n",
       "      <td>en</td>\n",
       "      <td>Toy Story</td>\n",
       "      <td>Led by Woody, Andy's toys live happily in his ...</td>\n",
       "      <td>...</td>\n",
       "      <td>1995-10-30</td>\n",
       "      <td>373554033.0</td>\n",
       "      <td>81.0</td>\n",
       "      <td>[{'iso_639_1': 'en', 'name': 'English'}]</td>\n",
       "      <td>Released</td>\n",
       "      <td>NaN</td>\n",
       "      <td>Toy Story</td>\n",
       "      <td>False</td>\n",
       "      <td>7.7</td>\n",
       "      <td>5415.0</td>\n",
       "    </tr>\n",
       "    <tr>\n",
       "      <th>1</th>\n",
       "      <td>False</td>\n",
       "      <td>NaN</td>\n",
       "      <td>65000000</td>\n",
       "      <td>[{'id': 12, 'name': 'Adventure'}, {'id': 14, '...</td>\n",
       "      <td>NaN</td>\n",
       "      <td>8844</td>\n",
       "      <td>tt0113497</td>\n",
       "      <td>en</td>\n",
       "      <td>Jumanji</td>\n",
       "      <td>When siblings Judy and Peter discover an encha...</td>\n",
       "      <td>...</td>\n",
       "      <td>1995-12-15</td>\n",
       "      <td>262797249.0</td>\n",
       "      <td>104.0</td>\n",
       "      <td>[{'iso_639_1': 'en', 'name': 'English'}, {'iso...</td>\n",
       "      <td>Released</td>\n",
       "      <td>Roll the dice and unleash the excitement!</td>\n",
       "      <td>Jumanji</td>\n",
       "      <td>False</td>\n",
       "      <td>6.9</td>\n",
       "      <td>2413.0</td>\n",
       "    </tr>\n",
       "    <tr>\n",
       "      <th>2</th>\n",
       "      <td>False</td>\n",
       "      <td>{'id': 119050, 'name': 'Grumpy Old Men Collect...</td>\n",
       "      <td>0</td>\n",
       "      <td>[{'id': 10749, 'name': 'Romance'}, {'id': 35, ...</td>\n",
       "      <td>NaN</td>\n",
       "      <td>15602</td>\n",
       "      <td>tt0113228</td>\n",
       "      <td>en</td>\n",
       "      <td>Grumpier Old Men</td>\n",
       "      <td>A family wedding reignites the ancient feud be...</td>\n",
       "      <td>...</td>\n",
       "      <td>1995-12-22</td>\n",
       "      <td>0.0</td>\n",
       "      <td>101.0</td>\n",
       "      <td>[{'iso_639_1': 'en', 'name': 'English'}]</td>\n",
       "      <td>Released</td>\n",
       "      <td>Still Yelling. Still Fighting. Still Ready for...</td>\n",
       "      <td>Grumpier Old Men</td>\n",
       "      <td>False</td>\n",
       "      <td>6.5</td>\n",
       "      <td>92.0</td>\n",
       "    </tr>\n",
       "    <tr>\n",
       "      <th>3</th>\n",
       "      <td>False</td>\n",
       "      <td>NaN</td>\n",
       "      <td>16000000</td>\n",
       "      <td>[{'id': 35, 'name': 'Comedy'}, {'id': 18, 'nam...</td>\n",
       "      <td>NaN</td>\n",
       "      <td>31357</td>\n",
       "      <td>tt0114885</td>\n",
       "      <td>en</td>\n",
       "      <td>Waiting to Exhale</td>\n",
       "      <td>Cheated on, mistreated and stepped on, the wom...</td>\n",
       "      <td>...</td>\n",
       "      <td>1995-12-22</td>\n",
       "      <td>81452156.0</td>\n",
       "      <td>127.0</td>\n",
       "      <td>[{'iso_639_1': 'en', 'name': 'English'}]</td>\n",
       "      <td>Released</td>\n",
       "      <td>Friends are the people who let you be yourself...</td>\n",
       "      <td>Waiting to Exhale</td>\n",
       "      <td>False</td>\n",
       "      <td>6.1</td>\n",
       "      <td>34.0</td>\n",
       "    </tr>\n",
       "    <tr>\n",
       "      <th>4</th>\n",
       "      <td>False</td>\n",
       "      <td>{'id': 96871, 'name': 'Father of the Bride Col...</td>\n",
       "      <td>0</td>\n",
       "      <td>[{'id': 35, 'name': 'Comedy'}]</td>\n",
       "      <td>NaN</td>\n",
       "      <td>11862</td>\n",
       "      <td>tt0113041</td>\n",
       "      <td>en</td>\n",
       "      <td>Father of the Bride Part II</td>\n",
       "      <td>Just when George Banks has recovered from his ...</td>\n",
       "      <td>...</td>\n",
       "      <td>1995-02-10</td>\n",
       "      <td>76578911.0</td>\n",
       "      <td>106.0</td>\n",
       "      <td>[{'iso_639_1': 'en', 'name': 'English'}]</td>\n",
       "      <td>Released</td>\n",
       "      <td>Just When His World Is Back To Normal... He's ...</td>\n",
       "      <td>Father of the Bride Part II</td>\n",
       "      <td>False</td>\n",
       "      <td>5.7</td>\n",
       "      <td>173.0</td>\n",
       "    </tr>\n",
       "  </tbody>\n",
       "</table>\n",
       "<p>5 rows × 24 columns</p>\n",
       "</div>"
      ],
      "text/plain": [
       "   adult                              belongs_to_collection    budget  \\\n",
       "0  False  {'id': 10194, 'name': 'Toy Story Collection', ...  30000000   \n",
       "1  False                                                NaN  65000000   \n",
       "2  False  {'id': 119050, 'name': 'Grumpy Old Men Collect...         0   \n",
       "3  False                                                NaN  16000000   \n",
       "4  False  {'id': 96871, 'name': 'Father of the Bride Col...         0   \n",
       "\n",
       "                                              genres  \\\n",
       "0  [{'id': 16, 'name': 'Animation'}, {'id': 35, '...   \n",
       "1  [{'id': 12, 'name': 'Adventure'}, {'id': 14, '...   \n",
       "2  [{'id': 10749, 'name': 'Romance'}, {'id': 35, ...   \n",
       "3  [{'id': 35, 'name': 'Comedy'}, {'id': 18, 'nam...   \n",
       "4                     [{'id': 35, 'name': 'Comedy'}]   \n",
       "\n",
       "                               homepage     id    imdb_id original_language  \\\n",
       "0  http://toystory.disney.com/toy-story    862  tt0114709                en   \n",
       "1                                   NaN   8844  tt0113497                en   \n",
       "2                                   NaN  15602  tt0113228                en   \n",
       "3                                   NaN  31357  tt0114885                en   \n",
       "4                                   NaN  11862  tt0113041                en   \n",
       "\n",
       "                original_title  \\\n",
       "0                    Toy Story   \n",
       "1                      Jumanji   \n",
       "2             Grumpier Old Men   \n",
       "3            Waiting to Exhale   \n",
       "4  Father of the Bride Part II   \n",
       "\n",
       "                                            overview  ... release_date  \\\n",
       "0  Led by Woody, Andy's toys live happily in his ...  ...   1995-10-30   \n",
       "1  When siblings Judy and Peter discover an encha...  ...   1995-12-15   \n",
       "2  A family wedding reignites the ancient feud be...  ...   1995-12-22   \n",
       "3  Cheated on, mistreated and stepped on, the wom...  ...   1995-12-22   \n",
       "4  Just when George Banks has recovered from his ...  ...   1995-02-10   \n",
       "\n",
       "       revenue runtime                                   spoken_languages  \\\n",
       "0  373554033.0    81.0           [{'iso_639_1': 'en', 'name': 'English'}]   \n",
       "1  262797249.0   104.0  [{'iso_639_1': 'en', 'name': 'English'}, {'iso...   \n",
       "2          0.0   101.0           [{'iso_639_1': 'en', 'name': 'English'}]   \n",
       "3   81452156.0   127.0           [{'iso_639_1': 'en', 'name': 'English'}]   \n",
       "4   76578911.0   106.0           [{'iso_639_1': 'en', 'name': 'English'}]   \n",
       "\n",
       "     status                                            tagline  \\\n",
       "0  Released                                                NaN   \n",
       "1  Released          Roll the dice and unleash the excitement!   \n",
       "2  Released  Still Yelling. Still Fighting. Still Ready for...   \n",
       "3  Released  Friends are the people who let you be yourself...   \n",
       "4  Released  Just When His World Is Back To Normal... He's ...   \n",
       "\n",
       "                         title  video vote_average vote_count  \n",
       "0                    Toy Story  False          7.7     5415.0  \n",
       "1                      Jumanji  False          6.9     2413.0  \n",
       "2             Grumpier Old Men  False          6.5       92.0  \n",
       "3            Waiting to Exhale  False          6.1       34.0  \n",
       "4  Father of the Bride Part II  False          5.7      173.0  \n",
       "\n",
       "[5 rows x 24 columns]"
      ]
     },
     "execution_count": 5,
     "metadata": {},
     "output_type": "execute_result"
    }
   ],
   "source": [
    "movie_metadata.head()"
   ]
  },
  {
   "cell_type": "code",
   "execution_count": 6,
   "id": "81d056b3",
   "metadata": {
    "execution": {
     "iopub.execute_input": "2023-02-02T19:01:47.016553Z",
     "iopub.status.busy": "2023-02-02T19:01:47.015911Z",
     "iopub.status.idle": "2023-02-02T19:01:47.022361Z",
     "shell.execute_reply": "2023-02-02T19:01:47.021331Z"
    },
    "papermill": {
     "duration": 0.015468,
     "end_time": "2023-02-02T19:01:47.024742",
     "exception": false,
     "start_time": "2023-02-02T19:01:47.009274",
     "status": "completed"
    },
    "tags": []
   },
   "outputs": [
    {
     "data": {
      "text/plain": [
       "Index(['adult', 'belongs_to_collection', 'budget', 'genres', 'homepage', 'id',\n",
       "       'imdb_id', 'original_language', 'original_title', 'overview',\n",
       "       'popularity', 'poster_path', 'production_companies',\n",
       "       'production_countries', 'release_date', 'revenue', 'runtime',\n",
       "       'spoken_languages', 'status', 'tagline', 'title', 'video',\n",
       "       'vote_average', 'vote_count'],\n",
       "      dtype='object')"
      ]
     },
     "execution_count": 6,
     "metadata": {},
     "output_type": "execute_result"
    }
   ],
   "source": [
    "movie_metadata.columns"
   ]
  },
  {
   "cell_type": "code",
   "execution_count": 7,
   "id": "e4eccd67",
   "metadata": {
    "execution": {
     "iopub.execute_input": "2023-02-02T19:01:47.038041Z",
     "iopub.status.busy": "2023-02-02T19:01:47.037494Z",
     "iopub.status.idle": "2023-02-02T19:01:48.155608Z",
     "shell.execute_reply": "2023-02-02T19:01:48.154520Z"
    },
    "papermill": {
     "duration": 1.127778,
     "end_time": "2023-02-02T19:01:48.158541",
     "exception": false,
     "start_time": "2023-02-02T19:01:47.030763",
     "status": "completed"
    },
    "tags": []
   },
   "outputs": [
    {
     "data": {
      "image/png": "[encoded data removed]",
      "text/plain": [
       "<Figure size 432x288 with 1 Axes>"
      ]
     },
     "metadata": {
      "needs_background": "light"
     },
     "output_type": "display_data"
    }
   ],
   "source": [
    "import matplotlib.pyplot as plt\n",
    "import seaborn as sns\n",
    "\n",
    "sns.scatterplot(x='runtime', y='vote_average',alpha=0.2, data=movie_metadata,)\n",
    "plt.show()"
   ]
  },
  {
   "cell_type": "code",
   "execution_count": 8,
   "id": "d63f75fa",
   "metadata": {
    "execution": {
     "iopub.execute_input": "2023-02-02T19:01:48.173293Z",
     "iopub.status.busy": "2023-02-02T19:01:48.172659Z",
     "iopub.status.idle": "2023-02-02T19:01:49.366701Z",
     "shell.execute_reply": "2023-02-02T19:01:49.365495Z"
    },
    "papermill": {
     "duration": 1.204466,
     "end_time": "2023-02-02T19:01:49.369594",
     "exception": false,
     "start_time": "2023-02-02T19:01:48.165128",
     "status": "completed"
    },
    "tags": []
   },
   "outputs": [],
   "source": [
    "import ast\n",
    "movie_metadata['genres'] = movie_metadata['genres'].apply(ast.literal_eval) #to convert the strings to lists of dicts"
   ]
  },
  {
   "cell_type": "code",
   "execution_count": 9,
   "id": "80f85713",
   "metadata": {
    "execution": {
     "iopub.execute_input": "2023-02-02T19:01:49.384610Z",
     "iopub.status.busy": "2023-02-02T19:01:49.384127Z",
     "iopub.status.idle": "2023-02-02T19:01:49.404514Z",
     "shell.execute_reply": "2023-02-02T19:01:49.403345Z"
    },
    "papermill": {
     "duration": 0.030266,
     "end_time": "2023-02-02T19:01:49.406885",
     "exception": false,
     "start_time": "2023-02-02T19:01:49.376619",
     "status": "completed"
    },
    "tags": []
   },
   "outputs": [],
   "source": [
    "length =len(movie_metadata['genres'])\n",
    "list_of_lengths = movie_metadata['genres'].apply(len)"
   ]
  },
  {
   "cell_type": "code",
   "execution_count": 10,
   "id": "26f10898",
   "metadata": {
    "execution": {
     "iopub.execute_input": "2023-02-02T19:01:49.421492Z",
     "iopub.status.busy": "2023-02-02T19:01:49.421094Z",
     "iopub.status.idle": "2023-02-02T19:01:49.430221Z",
     "shell.execute_reply": "2023-02-02T19:01:49.429497Z"
    },
    "papermill": {
     "duration": 0.018346,
     "end_time": "2023-02-02T19:01:49.432035",
     "exception": false,
     "start_time": "2023-02-02T19:01:49.413689",
     "status": "completed"
    },
    "tags": []
   },
   "outputs": [
    {
     "data": {
      "text/plain": [
       "0        3\n",
       "1        3\n",
       "2        2\n",
       "3        3\n",
       "4        1\n",
       "        ..\n",
       "45461    2\n",
       "45462    1\n",
       "45463    3\n",
       "45464    0\n",
       "45465    0\n",
       "Name: genres, Length: 45466, dtype: int64"
      ]
     },
     "execution_count": 10,
     "metadata": {},
     "output_type": "execute_result"
    }
   ],
   "source": [
    "list_of_lengths"
   ]
  },
  {
   "cell_type": "code",
   "execution_count": 11,
   "id": "cbc6a451",
   "metadata": {
    "execution": {
     "iopub.execute_input": "2023-02-02T19:01:49.446645Z",
     "iopub.status.busy": "2023-02-02T19:01:49.445825Z",
     "iopub.status.idle": "2023-02-02T19:01:50.258544Z",
     "shell.execute_reply": "2023-02-02T19:01:50.257694Z"
    },
    "papermill": {
     "duration": 0.822332,
     "end_time": "2023-02-02T19:01:50.260850",
     "exception": false,
     "start_time": "2023-02-02T19:01:49.438518",
     "status": "completed"
    },
    "tags": []
   },
   "outputs": [],
   "source": [
    "#extract the genres from dicts and add it to a list\n",
    "list_of_genres = []\n",
    "for i in range(length):\n",
    "    string = ''\n",
    "    for j in range(list_of_lengths[i]):\n",
    "        string = string + '/' + movie_metadata['genres'][i][j]['name']\n",
    "    list_of_genres.append(string[1:])\n",
    "    \n",
    "movie_metadata['genres'] = list_of_genres #the new 'genres' column should now include the different genres separated by '/'"
   ]
  },
  {
   "cell_type": "code",
   "execution_count": 12,
   "id": "23861f2f",
   "metadata": {
    "execution": {
     "iopub.execute_input": "2023-02-02T19:01:50.276177Z",
     "iopub.status.busy": "2023-02-02T19:01:50.275158Z",
     "iopub.status.idle": "2023-02-02T19:01:50.336980Z",
     "shell.execute_reply": "2023-02-02T19:01:50.336151Z"
    },
    "papermill": {
     "duration": 0.071951,
     "end_time": "2023-02-02T19:01:50.339443",
     "exception": false,
     "start_time": "2023-02-02T19:01:50.267492",
     "status": "completed"
    },
    "tags": []
   },
   "outputs": [],
   "source": [
    "horror_movies = movie_metadata[movie_metadata['genres'].str.contains('Horror')]\n",
    "drama_movies = movie_metadata[movie_metadata['genres'].str.contains('Drama')]"
   ]
  },
  {
   "cell_type": "code",
   "execution_count": 13,
   "id": "a7b6edc9",
   "metadata": {
    "execution": {
     "iopub.execute_input": "2023-02-02T19:01:50.353932Z",
     "iopub.status.busy": "2023-02-02T19:01:50.353585Z",
     "iopub.status.idle": "2023-02-02T19:01:50.360873Z",
     "shell.execute_reply": "2023-02-02T19:01:50.359848Z"
    },
    "papermill": {
     "duration": 0.017427,
     "end_time": "2023-02-02T19:01:50.363495",
     "exception": false,
     "start_time": "2023-02-02T19:01:50.346068",
     "status": "completed"
    },
    "tags": []
   },
   "outputs": [
    {
     "name": "stdout",
     "output_type": "stream",
     "text": [
      "5.230393835616438\n",
      "5.905221081721279\n"
     ]
    }
   ],
   "source": [
    "print(horror_movies['vote_average'].mean())\n",
    "print(drama_movies['vote_average'].mean())"
   ]
  },
  {
   "cell_type": "code",
   "execution_count": 14,
   "id": "aa6fd25c",
   "metadata": {
    "execution": {
     "iopub.execute_input": "2023-02-02T19:01:50.378233Z",
     "iopub.status.busy": "2023-02-02T19:01:50.377880Z",
     "iopub.status.idle": "2023-02-02T19:01:50.724850Z",
     "shell.execute_reply": "2023-02-02T19:01:50.723677Z"
    },
    "papermill": {
     "duration": 0.357134,
     "end_time": "2023-02-02T19:01:50.727272",
     "exception": false,
     "start_time": "2023-02-02T19:01:50.370138",
     "status": "completed"
    },
    "tags": []
   },
   "outputs": [
    {
     "data": {
      "image/png": "[encoded data removed]",
      "text/plain": [
       "<Figure size 432x288 with 1 Axes>"
      ]
     },
     "metadata": {
      "needs_background": "light"
     },
     "output_type": "display_data"
    }
   ],
   "source": [
    "sns.kdeplot(horror_movies['vote_average'], label='Horror')\n",
    "sns.kdeplot(drama_movies['vote_average'], label='Drama')\n",
    "plt.legend()\n",
    "plt.xlabel('Rating')\n",
    "plt.ylabel('Count')\n",
    "\n",
    "plt.show()"
   ]
  },
  {
   "cell_type": "code",
   "execution_count": 15,
   "id": "22b42b9c",
   "metadata": {
    "execution": {
     "iopub.execute_input": "2023-02-02T19:01:50.744344Z",
     "iopub.status.busy": "2023-02-02T19:01:50.743983Z",
     "iopub.status.idle": "2023-02-02T19:01:51.123768Z",
     "shell.execute_reply": "2023-02-02T19:01:51.122688Z"
    },
    "papermill": {
     "duration": 0.391531,
     "end_time": "2023-02-02T19:01:51.126302",
     "exception": false,
     "start_time": "2023-02-02T19:01:50.734771",
     "status": "completed"
    },
    "tags": []
   },
   "outputs": [
    {
     "data": {
      "image/png": "[encoded data removed]",
      "text/plain": [
       "<Figure size 432x288 with 1 Axes>"
      ]
     },
     "metadata": {
      "needs_background": "light"
     },
     "output_type": "display_data"
    }
   ],
   "source": [
    "sns.kdeplot(horror_movies['runtime'], label='Horror')\n",
    "sns.kdeplot(drama_movies['runtime'], label='Drama')\n",
    "plt.xlabel('Runtime')\n",
    "plt.ylabel('Count')\n",
    "plt.legend()\n",
    "plt.xlim([1,250])\n",
    "\n",
    "plt.show()"
   ]
  },
  {
   "cell_type": "code",
   "execution_count": 16,
   "id": "2b3c502a",
   "metadata": {
    "execution": {
     "iopub.execute_input": "2023-02-02T19:01:51.143760Z",
     "iopub.status.busy": "2023-02-02T19:01:51.143369Z",
     "iopub.status.idle": "2023-02-02T19:01:51.500509Z",
     "shell.execute_reply": "2023-02-02T19:01:51.499543Z"
    },
    "papermill": {
     "duration": 0.369258,
     "end_time": "2023-02-02T19:01:51.503104",
     "exception": false,
     "start_time": "2023-02-02T19:01:51.133846",
     "status": "completed"
    },
    "tags": []
   },
   "outputs": [
    {
     "data": {
      "image/png": "[encoded data removed]",
      "text/plain": [
       "<Figure size 432x288 with 2 Axes>"
      ]
     },
     "metadata": {
      "needs_background": "light"
     },
     "output_type": "display_data"
    }
   ],
   "source": [
    "fig, ax = plt.subplots(1,2)\n",
    "sns.boxplot(data = horror_movies, y='runtime', ax=ax[0])\n",
    "ax[0].set_ylabel('Rating')\n",
    "ax[0].set_ylim([1,300])\n",
    "ax[0].set_title('Horror')\n",
    "\n",
    "sns.boxplot(data = drama_movies, y='runtime', ax=ax[1])\n",
    "ax[1].set_ylabel('')\n",
    "ax[1].set_ylim([1,300])\n",
    "#ax[1].set_yticklabels([])\n",
    "ax[1].yaxis.set_label_position(\"right\")\n",
    "ax[1].yaxis.tick_right()\n",
    "ax[1].set_ylabel('Rating')\n",
    "ax[1].set_title('Drama')\n",
    "\n",
    "\n",
    "plt.show()"
   ]
  },
  {
   "cell_type": "code",
   "execution_count": null,
   "id": "c4638d70",
   "metadata": {
    "papermill": {
     "duration": 0.007865,
     "end_time": "2023-02-02T19:01:51.518930",
     "exception": false,
     "start_time": "2023-02-02T19:01:51.511065",
     "status": "completed"
    },
    "tags": []
   },
   "outputs": [],
   "source": []
  },
  {
   "cell_type": "code",
   "execution_count": null,
   "id": "8169dff9",
   "metadata": {
    "papermill": {
     "duration": 0.007357,
     "end_time": "2023-02-02T19:01:51.533661",
     "exception": false,
     "start_time": "2023-02-02T19:01:51.526304",
     "status": "completed"
    },
    "tags": []
   },
   "outputs": [],
   "source": []
  }
 ],
 "metadata": {
  "kernelspec": {
   "display_name": "Python 3",
   "language": "python",
   "name": "python3"
  },
  "language_info": {
   "codemirror_mode": {
    "name": "ipython",
    "version": 3
   },
   "file_extension": ".py",
   "mimetype": "text/x-python",
   "name": "python",
   "nbconvert_exporter": "python",
   "pygments_lexer": "ipython3",
   "version": "3.7.12"
  },
  "papermill": {
   "default_parameters": {},
   "duration": 38.065752,
   "end_time": "2023-02-02T19:01:52.261688",
   "environment_variables": {},
   "exception": null,
   "input_path": "__notebook__.ipynb",
   "output_path": "__notebook__.ipynb",
   "parameters": {},
   "start_time": "2023-02-02T19:01:14.195936",
   "version": "2.3.4"
  }
 },
 "nbformat": 4,
 "nbformat_minor": 5
}
